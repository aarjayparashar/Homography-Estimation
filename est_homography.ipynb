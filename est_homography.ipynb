{
  "nbformat": 4,
  "nbformat_minor": 0,
  "metadata": {
    "colab": {
      "provenance": []
    },
    "kernelspec": {
      "name": "python3",
      "display_name": "Python 3"
    },
    "language_info": {
      "name": "python"
    }
  },
  "cells": [
    {
      "cell_type": "code",
      "execution_count": 2,
      "metadata": {
        "id": "NzDu4f3EKoQv"
      },
      "outputs": [],
      "source": [
        "import numpy as np\n"
      ]
    },
    {
      "cell_type": "code",
      "source": [
        "def est_homography(X, X_prime):\n",
        "    \"\"\"\n",
        "    Calculates the homography of two planes, from the plane defined by X\n",
        "    to the plane defined by X_prime. In this assignment, X are the coordinates of the\n",
        "    four corners of the soccer goal while X_prime are the four corners of the penn logo\n",
        "\n",
        "    Input:\n",
        "        X: 4x2 matrix of (x,y) coordinates of goal corners in video frame\n",
        "        X_prime: 4x2 matrix of (x,y) coordinates of logo corners in penn logo\n",
        "    Returns:\n",
        "        H: 3x3 homogeneours transformation matrix s.t. X_prime ~ H*X\n",
        "\n",
        "    \"\"\"\n",
        "\n",
        "    ##### STUDENT CODE START #####\n",
        "    A = np.zeros(8)\n",
        "  \n",
        "    for i in range(X.shape[0]):\n",
        "        a_x = np.array(-X[i][0], -X[i][1], -1, 0, 0, 0, np.multiply(X[i][0], X_prime[i][0]), np.multiply(X[i][1], X_prime[i][0]), X_prime[i][0])\n",
        "        a_y = np.array(0, 0, 0, -X[i][0], -X[i][1], -1, np.multiply(X[i][0], X_prime[i][1]), np.multiply(X[i][1], X_prime[i][1]), X_prime[i][1])\n",
        "        A = A.append(a_x)\n",
        "        A = A.append(a_y)\n",
        "    \n",
        "    [U, S, Vt] = np.linalg.svd(np.array(A))\n",
        "    H = np.transpose(Vt).reshape(3,3)\n",
        "    print(H)\n",
        "\n",
        "    ##### STUDENT CODE END #####\n",
        "\n",
        "    return H"
      ],
      "metadata": {
        "id": "fKHqBuEEN7pM"
      },
      "execution_count": 18,
      "outputs": []
    },
    {
      "cell_type": "code",
      "source": [
        "X = np.array([(1,2),(3,4),(5,6),(7,8)])\n",
        "X_shaped = X.reshape(4,2)\n",
        "print(X_shaped)\n",
        "print(X_shaped[0][0])\n",
        "print(X_shaped.shape[0])\n"
      ],
      "metadata": {
        "colab": {
          "base_uri": "https://localhost:8080/"
        },
        "id": "M4xgQx0_OC0n",
        "outputId": "5a5fcc8b-0448-4e06-b317-6b781ed71e46"
      },
      "execution_count": 16,
      "outputs": [
        {
          "output_type": "stream",
          "name": "stdout",
          "text": [
            "[[1 2]\n",
            " [3 4]\n",
            " [5 6]\n",
            " [7 8]]\n",
            "1\n",
            "4\n"
          ]
        }
      ]
    },
    {
      "cell_type": "code",
      "source": [],
      "metadata": {
        "id": "XDzp9cymPVbS"
      },
      "execution_count": null,
      "outputs": []
    }
  ]
}